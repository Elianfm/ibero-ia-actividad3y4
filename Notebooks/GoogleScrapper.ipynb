{
 "cells": [
  {
   "cell_type": "code",
   "execution_count": 4,
   "id": "f93c58a3-cfb5-49dd-a563-a0780755b2a9",
   "metadata": {
    "collapsed": true,
    "jupyter": {
     "outputs_hidden": true
    }
   },
   "outputs": [
    {
     "name": "stdout",
     "output_type": "stream",
     "text": [
      "Requirement already satisfied: requests in d:\\program files\\python\\lib\\site-packages (2.32.3)\n",
      "Requirement already satisfied: beautifulsoup4 in d:\\program files\\python\\lib\\site-packages (4.12.3)\n",
      "Requirement already satisfied: selenium==3.14.0 in d:\\program files\\python\\lib\\site-packages (3.14.0)\n",
      "Requirement already satisfied: webdriver-manager in d:\\program files\\python\\lib\\site-packages (4.0.2)\n",
      "Requirement already satisfied: urllib3 in d:\\program files\\python\\lib\\site-packages (from selenium==3.14.0) (2.2.3)\n",
      "Requirement already satisfied: charset-normalizer<4,>=2 in d:\\program files\\python\\lib\\site-packages (from requests) (3.3.2)\n",
      "Requirement already satisfied: idna<4,>=2.5 in d:\\program files\\python\\lib\\site-packages (from requests) (3.10)\n",
      "Requirement already satisfied: certifi>=2017.4.17 in d:\\program files\\python\\lib\\site-packages (from requests) (2024.8.30)\n",
      "Requirement already satisfied: soupsieve>1.2 in d:\\program files\\python\\lib\\site-packages (from beautifulsoup4) (2.6)\n",
      "Requirement already satisfied: python-dotenv in d:\\program files\\python\\lib\\site-packages (from webdriver-manager) (1.0.1)\n",
      "Requirement already satisfied: packaging in d:\\program files\\python\\lib\\site-packages (from webdriver-manager) (24.1)\n",
      "Note: you may need to restart the kernel to use updated packages.\n"
     ]
    }
   ],
   "source": [
    "pip install requests beautifulsoup4 selenium==3.14.0 webdriver-manager"
   ]
  },
  {
   "cell_type": "code",
   "execution_count": 5,
   "id": "be7677cc-a1da-49fd-a877-8c7bb2a5458a",
   "metadata": {},
   "outputs": [
    {
     "name": "stdin",
     "output_type": "stream",
     "text": [
      "Waiting... .\n"
     ]
    },
    {
     "name": "stdout",
     "output_type": "stream",
     "text": [
      "Se descargaron 589 imágenes con la clase 'YQ4gaf' dentro de un div con la clase 'H8Rx8c'.\n"
     ]
    }
   ],
   "source": [
    "import bs4\n",
    "import requests\n",
    "from selenium import webdriver\n",
    "from webdriver_manager.chrome import ChromeDriverManager\n",
    "import os\n",
    "import time\n",
    "import base64\n",
    "\n",
    "# Creación de un directorio para guardar las imágenes\n",
    "folder_name = 'imagenes/buñuelos'\n",
    "if not os.path.isdir(folder_name):\n",
    "    os.makedirs(folder_name)\n",
    "\n",
    "def download_image(url, folder_name, num):\n",
    "    # Descargando la imagen\n",
    "    if url.startswith('http'):  # Verificar si la URL es válida\n",
    "        response = requests.get(url)\n",
    "        if response.status_code == 200:\n",
    "            with open(os.path.join(folder_name, str(num) + \".jpg\"), 'wb') as file:\n",
    "                file.write(response.content)\n",
    "    elif url.startswith('data:image'):  # Verificar si la imagen está en formato base64\n",
    "        try:\n",
    "            header, encoded = url.split(',', 1)\n",
    "            data = base64.b64decode(encoded)\n",
    "            with open(os.path.join(folder_name, str(num) + \".jpg\"), 'wb') as file:\n",
    "                file.write(data)\n",
    "        except Exception as e:\n",
    "            print(f\"Error al decodificar la imagen {num}: {e}\")\n",
    "    else:\n",
    "        print(f\"URL inválida para la imagen {num}: {url}\")\n",
    "\n",
    "# Inicialización del driver en Selenium 3.14\n",
    "chromePath = ChromeDriverManager().install()  # Usando webdriver-manager para obtener el chromedriver\n",
    "driver = webdriver.Chrome(executable_path=chromePath)\n",
    "\n",
    "# URL de búsqueda en Google\n",
    "search_URL = \"https://www.google.com/search?q=buñuelos+colombianos&source=lnms&tbm=isch\"\n",
    "driver.get(search_URL)\n",
    "\n",
    "# Esperar a que el usuario confirme antes de proceder\n",
    "a = input(\"Waiting...\")\n",
    "\n",
    "# Hacer scroll hacia arriba\n",
    "driver.execute_script(\"window.scrollTo(0, 0);\")\n",
    "\n",
    "# Obtener el HTML de la página y analizarlo con BeautifulSoup\n",
    "soup = bs4.BeautifulSoup(driver.page_source, 'html.parser')\n",
    "\n",
    "# Buscar todas las imágenes con la clase 'YQ4gaf' cuyo div padre tiene la clase 'H8Rx8c'\n",
    "imgs = []\n",
    "parent_divs = soup.find_all('div', class_='H8Rx8c')\n",
    "for div in parent_divs:\n",
    "    img = div.find('img', class_='YQ4gaf')\n",
    "    if img:\n",
    "        imgs.append(img)\n",
    "\n",
    "# Descargar cada imagen encontrada\n",
    "for idx, img in enumerate(imgs):\n",
    "    img_url = img.get('src')\n",
    "    if img_url:\n",
    "        download_image(img_url, folder_name, idx)\n",
    "\n",
    "# Imprimir la cantidad de imágenes descargadas\n",
    "print(f\"Se descargaron {len(imgs)} imágenes con la clase 'YQ4gaf' dentro de un div con la clase 'H8Rx8c'.\")"
   ]
  },
  {
   "cell_type": "code",
   "execution_count": null,
   "id": "ca36fe56-eb45-49eb-a561-b86d21af8263",
   "metadata": {},
   "outputs": [],
   "source": [
    "print(\"termino??\")"
   ]
  },
  {
   "cell_type": "code",
   "execution_count": null,
   "id": "0904e2b6-3593-401c-b5c2-3d044c75960d",
   "metadata": {},
   "outputs": [],
   "source": []
  }
 ],
 "metadata": {
  "kernelspec": {
   "display_name": "Python 3 (ipykernel)",
   "language": "python",
   "name": "python3"
  },
  "language_info": {
   "codemirror_mode": {
    "name": "ipython",
    "version": 3
   },
   "file_extension": ".py",
   "mimetype": "text/x-python",
   "name": "python",
   "nbconvert_exporter": "python",
   "pygments_lexer": "ipython3",
   "version": "3.12.6"
  }
 },
 "nbformat": 4,
 "nbformat_minor": 5
}
